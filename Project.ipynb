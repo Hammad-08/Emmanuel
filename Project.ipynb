{
 "cells": [
  {
   "cell_type": "markdown",
   "metadata": {},
   "source": [
    "# AI-Powered Heart Disease Prediction System"
   ]
  },
  {
   "cell_type": "code",
   "execution_count": 1,
   "metadata": {
    "vscode": {
     "languageId": "powershell"
    }
   },
   "outputs": [
    {
     "name": "stdout",
     "output_type": "stream",
     "text": [
      "Requirement already satisfied: shap in c:\\users\\hammad\\anaconda3\\lib\\site-packages (0.46.0)\n",
      "Requirement already satisfied: numpy in c:\\users\\hammad\\anaconda3\\lib\\site-packages (from shap) (1.26.4)\n",
      "Requirement already satisfied: scipy in c:\\users\\hammad\\anaconda3\\lib\\site-packages (from shap) (1.13.0)\n",
      "Requirement already satisfied: scikit-learn in c:\\users\\hammad\\anaconda3\\lib\\site-packages (from shap) (1.4.2)\n",
      "Requirement already satisfied: pandas in c:\\users\\hammad\\anaconda3\\lib\\site-packages (from shap) (2.1.4)\n",
      "Requirement already satisfied: tqdm>=4.27.0 in c:\\users\\hammad\\anaconda3\\lib\\site-packages (from shap) (4.65.0)\n",
      "Requirement already satisfied: packaging>20.9 in c:\\users\\hammad\\anaconda3\\lib\\site-packages (from shap) (24.0)\n",
      "Requirement already satisfied: slicer==0.0.8 in c:\\users\\hammad\\anaconda3\\lib\\site-packages (from shap) (0.0.8)\n",
      "Requirement already satisfied: numba in c:\\users\\hammad\\anaconda3\\lib\\site-packages (from shap) (0.61.0)\n",
      "Requirement already satisfied: cloudpickle in c:\\users\\hammad\\anaconda3\\lib\\site-packages (from shap) (2.2.1)\n",
      "Requirement already satisfied: colorama in c:\\users\\hammad\\anaconda3\\lib\\site-packages (from tqdm>=4.27.0->shap) (0.4.6)\n",
      "Requirement already satisfied: llvmlite<0.45,>=0.44.0dev0 in c:\\users\\hammad\\anaconda3\\lib\\site-packages (from numba->shap) (0.44.0)\n",
      "Requirement already satisfied: python-dateutil>=2.8.2 in c:\\users\\hammad\\anaconda3\\lib\\site-packages (from pandas->shap) (2.9.0.post0)\n",
      "Requirement already satisfied: pytz>=2020.1 in c:\\users\\hammad\\anaconda3\\lib\\site-packages (from pandas->shap) (2023.3.post1)\n",
      "Requirement already satisfied: tzdata>=2022.1 in c:\\users\\hammad\\anaconda3\\lib\\site-packages (from pandas->shap) (2023.3)\n",
      "Requirement already satisfied: joblib>=1.2.0 in c:\\users\\hammad\\anaconda3\\lib\\site-packages (from scikit-learn->shap) (1.4.2)\n",
      "Requirement already satisfied: threadpoolctl>=2.0.0 in c:\\users\\hammad\\anaconda3\\lib\\site-packages (from scikit-learn->shap) (3.5.0)\n",
      "Requirement already satisfied: six>=1.5 in c:\\users\\hammad\\anaconda3\\lib\\site-packages (from python-dateutil>=2.8.2->pandas->shap) (1.16.0)\n",
      "Requirement already satisfied: lime in c:\\users\\hammad\\anaconda3\\lib\\site-packages (0.2.0.1)\n",
      "Requirement already satisfied: matplotlib in c:\\users\\hammad\\anaconda3\\lib\\site-packages (from lime) (3.8.4)\n",
      "Requirement already satisfied: numpy in c:\\users\\hammad\\anaconda3\\lib\\site-packages (from lime) (1.26.4)\n",
      "Requirement already satisfied: scipy in c:\\users\\hammad\\anaconda3\\lib\\site-packages (from lime) (1.13.0)\n",
      "Requirement already satisfied: tqdm in c:\\users\\hammad\\anaconda3\\lib\\site-packages (from lime) (4.65.0)\n",
      "Requirement already satisfied: scikit-learn>=0.18 in c:\\users\\hammad\\anaconda3\\lib\\site-packages (from lime) (1.4.2)\n",
      "Requirement already satisfied: scikit-image>=0.12 in c:\\users\\hammad\\anaconda3\\lib\\site-packages (from lime) (0.24.0)\n",
      "Requirement already satisfied: networkx>=2.8 in c:\\users\\hammad\\anaconda3\\lib\\site-packages (from scikit-image>=0.12->lime) (3.3)\n",
      "Requirement already satisfied: pillow>=9.1 in c:\\users\\hammad\\anaconda3\\lib\\site-packages (from scikit-image>=0.12->lime) (10.2.0)\n",
      "Requirement already satisfied: imageio>=2.33 in c:\\users\\hammad\\anaconda3\\lib\\site-packages (from scikit-image>=0.12->lime) (2.35.1)\n",
      "Requirement already satisfied: tifffile>=2022.8.12 in c:\\users\\hammad\\anaconda3\\lib\\site-packages (from scikit-image>=0.12->lime) (2024.8.30)\n",
      "Requirement already satisfied: packaging>=21 in c:\\users\\hammad\\anaconda3\\lib\\site-packages (from scikit-image>=0.12->lime) (24.0)\n",
      "Requirement already satisfied: lazy-loader>=0.4 in c:\\users\\hammad\\anaconda3\\lib\\site-packages (from scikit-image>=0.12->lime) (0.4)\n",
      "Requirement already satisfied: joblib>=1.2.0 in c:\\users\\hammad\\anaconda3\\lib\\site-packages (from scikit-learn>=0.18->lime) (1.4.2)\n",
      "Requirement already satisfied: threadpoolctl>=2.0.0 in c:\\users\\hammad\\anaconda3\\lib\\site-packages (from scikit-learn>=0.18->lime) (3.5.0)\n",
      "Requirement already satisfied: contourpy>=1.0.1 in c:\\users\\hammad\\anaconda3\\lib\\site-packages (from matplotlib->lime) (1.2.0)\n",
      "Requirement already satisfied: cycler>=0.10 in c:\\users\\hammad\\anaconda3\\lib\\site-packages (from matplotlib->lime) (0.12.1)\n",
      "Requirement already satisfied: fonttools>=4.22.0 in c:\\users\\hammad\\anaconda3\\lib\\site-packages (from matplotlib->lime) (4.51.0)\n",
      "Requirement already satisfied: kiwisolver>=1.3.1 in c:\\users\\hammad\\anaconda3\\lib\\site-packages (from matplotlib->lime) (1.4.5)\n",
      "Requirement already satisfied: pyparsing>=2.3.1 in c:\\users\\hammad\\anaconda3\\lib\\site-packages (from matplotlib->lime) (3.1.2)\n",
      "Requirement already satisfied: python-dateutil>=2.7 in c:\\users\\hammad\\anaconda3\\lib\\site-packages (from matplotlib->lime) (2.9.0.post0)\n",
      "Requirement already satisfied: colorama in c:\\users\\hammad\\anaconda3\\lib\\site-packages (from tqdm->lime) (0.4.6)\n",
      "Requirement already satisfied: six>=1.5 in c:\\users\\hammad\\anaconda3\\lib\\site-packages (from python-dateutil>=2.7->matplotlib->lime) (1.16.0)\n"
     ]
    }
   ],
   "source": [
    "!pip install shap\n",
    "!pip install lime"
   ]
  },
  {
   "cell_type": "markdown",
   "metadata": {},
   "source": [
    "## Importing necessary libraries"
   ]
  },
  {
   "cell_type": "code",
   "execution_count": 2,
   "metadata": {
    "vscode": {
     "languageId": "powershell"
    }
   },
   "outputs": [],
   "source": [
    "import pandas as pd\n",
    "import numpy as np\n",
    "from sklearn.model_selection import train_test_split\n",
    "from sklearn.preprocessing import StandardScaler, OneHotEncoder\n",
    "from sklearn.compose import ColumnTransformer\n",
    "from sklearn.pipeline import Pipeline\n",
    "from sklearn.impute import SimpleImputer\n",
    "import matplotlib.pyplot as plt\n",
    "import seaborn as sns\n",
    "from sklearn.linear_model import LogisticRegression\n",
    "from sklearn.tree import DecisionTreeClassifier\n",
    "from sklearn.ensemble import RandomForestClassifier, GradientBoostingClassifier\n",
    "from sklearn.metrics import accuracy_score, precision_score, recall_score, f1_score, roc_auc_score, classification_report\n",
    "from tensorflow.keras.models import Sequential\n",
    "from tensorflow.keras.layers import Dense, Dropout\n",
    "from tensorflow.keras.optimizers import Adam\n",
    "import shap\n",
    "import lime\n",
    "import lime.lime_tabular"
   ]
  },
  {
   "cell_type": "code",
   "execution_count": 3,
   "metadata": {
    "vscode": {
     "languageId": "powershell"
    }
   },
   "outputs": [],
   "source": [
    "data_path = 'HeartDisease.csv'\n",
    "data = pd.read_csv(data_path)"
   ]
  },
  {
   "cell_type": "code",
   "execution_count": 4,
   "metadata": {
    "vscode": {
     "languageId": "powershell"
    }
   },
   "outputs": [
    {
     "name": "stdout",
     "output_type": "stream",
     "text": [
      "Dataset Preview:\n",
      "   age     sex chest_pain_type  resting_blood_pressure  cholestoral  \\\n",
      "0   52    Male  Typical angina                     125          212   \n",
      "1   53    Male  Typical angina                     140          203   \n",
      "2   70    Male  Typical angina                     145          174   \n",
      "3   61    Male  Typical angina                     148          203   \n",
      "4   62  Female  Typical angina                     138          294   \n",
      "\n",
      "      fasting_blood_sugar               rest_ecg  Max_heart_rate  \\\n",
      "0    Lower than 120 mg/ml  ST-T wave abnormality             168   \n",
      "1  Greater than 120 mg/ml                 Normal             155   \n",
      "2    Lower than 120 mg/ml  ST-T wave abnormality             125   \n",
      "3    Lower than 120 mg/ml  ST-T wave abnormality             161   \n",
      "4  Greater than 120 mg/ml  ST-T wave abnormality             106   \n",
      "\n",
      "  exercise_induced_angina  oldpeak        slope vessels_colored_by_flourosopy  \\\n",
      "0                      No      1.0  Downsloping                           Two   \n",
      "1                     Yes      3.1    Upsloping                          Zero   \n",
      "2                     Yes      2.6    Upsloping                          Zero   \n",
      "3                      No      0.0  Downsloping                           One   \n",
      "4                      No      1.9         Flat                         Three   \n",
      "\n",
      "         thalassemia  target  \n",
      "0  Reversable Defect       0  \n",
      "1  Reversable Defect       0  \n",
      "2  Reversable Defect       0  \n",
      "3  Reversable Defect       0  \n",
      "4       Fixed Defect       0  \n"
     ]
    }
   ],
   "source": [
    "# Display the first few rows to understand the structure of the dataset\n",
    "print(\"Dataset Preview:\")\n",
    "print(data.head())"
   ]
  },
  {
   "cell_type": "code",
   "execution_count": null,
   "metadata": {
    "vscode": {
     "languageId": "powershell"
    }
   },
   "outputs": [],
   "source": []
  }
 ],
 "metadata": {
  "kernelspec": {
   "display_name": "base",
   "language": "python",
   "name": "python3"
  },
  "language_info": {
   "codemirror_mode": {
    "name": "ipython",
    "version": 3
   },
   "file_extension": ".py",
   "mimetype": "text/x-python",
   "name": "python",
   "nbconvert_exporter": "python",
   "pygments_lexer": "ipython3",
   "version": "3.11.7"
  }
 },
 "nbformat": 4,
 "nbformat_minor": 2
}
